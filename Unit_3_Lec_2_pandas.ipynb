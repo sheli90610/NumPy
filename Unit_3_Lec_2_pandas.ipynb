{
  "nbformat": 4,
  "nbformat_minor": 0,
  "metadata": {
    "colab": {
      "name": "Unit_3 Lec_2 pandas.ipynb",
      "provenance": [],
      "authorship_tag": "ABX9TyOQJ50wHFZ8B85nqPjKUq33",
      "include_colab_link": true
    },
    "kernelspec": {
      "name": "python3",
      "display_name": "Python 3"
    }
  },
  "cells": [
    {
      "cell_type": "markdown",
      "metadata": {
        "id": "view-in-github",
        "colab_type": "text"
      },
      "source": [
        "<a href=\"https://colab.research.google.com/github/sheli90610/NumPy/blob/master/Unit_3_Lec_2_pandas.ipynb\" target=\"_parent\"><img src=\"https://colab.research.google.com/assets/colab-badge.svg\" alt=\"Open In Colab\"/></a>"
      ]
    },
    {
      "cell_type": "markdown",
      "metadata": {
        "id": "ECwg0D6K4lsD"
      },
      "source": [
        "Create a simple Pandas Series from a list:"
      ]
    },
    {
      "cell_type": "markdown",
      "metadata": {
        "id": "FS1_Hv0Q4oxy"
      },
      "source": [
        "Unit_3 Lec2 Pandas"
      ]
    },
    {
      "cell_type": "code",
      "metadata": {
        "colab": {
          "base_uri": "https://localhost:8080/"
        },
        "id": "YHrNXb3u4fPK",
        "outputId": "4119a324-ff85-4288-b721-1bcccea6728c"
      },
      "source": [
        "#Create a simple Pandas Series from a list:\n",
        "import pandas as pd \n",
        "\n",
        "a = [1, 7, 2]\n",
        "\n",
        "myvar = pd.Series(a)\n",
        "\n",
        "print(myvar)"
      ],
      "execution_count": 2,
      "outputs": [
        {
          "output_type": "stream",
          "text": [
            "0    1\n",
            "1    7\n",
            "2    2\n",
            "dtype: int64\n"
          ],
          "name": "stdout"
        }
      ]
    },
    {
      "cell_type": "code",
      "metadata": {
        "colab": {
          "base_uri": "https://localhost:8080/"
        },
        "id": "9O6Cucvg2LuE",
        "outputId": "e8ce545f-5b2f-4d76-e57a-dd66595b982a"
      },
      "source": [
        "# Create a simple Pandas Series from a dictionary\n",
        "import pandas as pd  \n",
        "\n",
        "mydataset = {\n",
        "  'cars': [\"BMW\", \"Volvo\", \"Ford\"], \n",
        "  'passings': [3, 7, 2]\n",
        "}\n",
        "\n",
        "myvar = pd.DataFrame(mydataset)\n",
        "\n",
        "print(myvar)"
      ],
      "execution_count": 1,
      "outputs": [
        {
          "output_type": "stream",
          "text": [
            "    cars  passings\n",
            "0    BMW         3\n",
            "1  Volvo         7\n",
            "2   Ford         2\n"
          ],
          "name": "stdout"
        }
      ]
    },
    {
      "cell_type": "code",
      "metadata": {
        "colab": {
          "base_uri": "https://localhost:8080/"
        },
        "id": "CvQPkdk65D37",
        "outputId": "557bad8d-bec7-42a1-dcb6-f03dcb92508f"
      },
      "source": [
        "#Create you own labels:\n",
        "\n",
        "import pandas as pd \n",
        "\n",
        "a = [1, 7, 2]\n",
        "\n",
        "myvar = pd.Series(a, index = [\"x\", \"y\", \"z\"])\n",
        "\n",
        "print(myvar)"
      ],
      "execution_count": 9,
      "outputs": [
        {
          "output_type": "stream",
          "text": [
            "x    1\n",
            "y    7\n",
            "z    2\n",
            "dtype: int64\n"
          ],
          "name": "stdout"
        }
      ]
    },
    {
      "cell_type": "markdown",
      "metadata": {
        "id": "0reOVEPaMQeH"
      },
      "source": [
        "Data Frame,A Pandas DataFrame is a 2 dimensional data structure, like a 2 dimensional array, or a table with rows and columns."
      ]
    },
    {
      "cell_type": "code",
      "metadata": {
        "colab": {
          "base_uri": "https://localhost:8080/"
        },
        "id": "nkoFRHovMTyU",
        "outputId": "b9393d3e-d0ae-469c-a585-116abaacd3ff"
      },
      "source": [
        "#Create a simple Pandas DataFrame:\n",
        "\n",
        "import pandas as pd \n",
        "\n",
        "data = {\n",
        "  \"calories\": [420, 380, 390],\n",
        "  \"duration\": [50, 40, 45]\n",
        "}\n",
        "\n",
        "#load data into a DataFrame object:\n",
        "df = pd.DataFrame(data)\n",
        "\n",
        "print(df) "
      ],
      "execution_count": 56,
      "outputs": [
        {
          "output_type": "stream",
          "text": [
            "   calories  duration\n",
            "0       420        50\n",
            "1       380        40\n",
            "2       390        45\n"
          ],
          "name": "stdout"
        }
      ]
    },
    {
      "cell_type": "markdown",
      "metadata": {
        "id": "jtARifpfNyIC"
      },
      "source": [
        "\n",
        "\n",
        "```\n",
        "labling,colums ,rows\n",
        "```\n",
        "\n"
      ]
    },
    {
      "cell_type": "code",
      "metadata": {
        "colab": {
          "base_uri": "https://localhost:8080/",
          "height": 111
        },
        "id": "kx17mtnGVQLr",
        "outputId": "eba33499-3e91-4fee-a769-31facfc4699d"
      },
      "source": [
        "labels = ['Rain', 'No Rain']\n",
        "pd.DataFrame([[27, 63],[7, 268]], columns=labels, index=labels)"
      ],
      "execution_count": 55,
      "outputs": [
        {
          "output_type": "execute_result",
          "data": {
            "text/html": [
              "<div>\n",
              "<style scoped>\n",
              "    .dataframe tbody tr th:only-of-type {\n",
              "        vertical-align: middle;\n",
              "    }\n",
              "\n",
              "    .dataframe tbody tr th {\n",
              "        vertical-align: top;\n",
              "    }\n",
              "\n",
              "    .dataframe thead th {\n",
              "        text-align: right;\n",
              "    }\n",
              "</style>\n",
              "<table border=\"1\" class=\"dataframe\">\n",
              "  <thead>\n",
              "    <tr style=\"text-align: right;\">\n",
              "      <th></th>\n",
              "      <th>Rain</th>\n",
              "      <th>No Rain</th>\n",
              "    </tr>\n",
              "  </thead>\n",
              "  <tbody>\n",
              "    <tr>\n",
              "      <th>Rain</th>\n",
              "      <td>27</td>\n",
              "      <td>63</td>\n",
              "    </tr>\n",
              "    <tr>\n",
              "      <th>No Rain</th>\n",
              "      <td>7</td>\n",
              "      <td>268</td>\n",
              "    </tr>\n",
              "  </tbody>\n",
              "</table>\n",
              "</div>"
            ],
            "text/plain": [
              "         Rain  No Rain\n",
              "Rain       27       63\n",
              "No Rain     7      268"
            ]
          },
          "metadata": {
            "tags": []
          },
          "execution_count": 55
        }
      ]
    },
    {
      "cell_type": "code",
      "metadata": {
        "colab": {
          "base_uri": "https://localhost:8080/"
        },
        "id": "9IAGA-_cNqam",
        "outputId": "c7b0f416-fc75-4a69-8075-e77a8b48d9bb"
      },
      "source": [
        "import numpy as np \n",
        "import pandas as pd \n",
        "rows = ['x', 'y','Z', 'W']\n",
        "coloms = ['1', '2','3', '4']\n",
        "df = pd.DataFrame(np.random.randint(0,10,size=(4, 4)), columns=coloms,index=rows)\n",
        "print(df)\n",
        "df['new']=df['1']\n",
        "print('==========+++++++++')\n",
        "print(df)\n",
        "#To select multiple columns\n",
        "df[['1','2']]\n",
        "#del df['column_name']\n",
        "del df['2']\n",
        "print('==========+++++++++')\n",
        "print(df)\n",
        "#create new data frame using existing one\n",
        "df2=df[['1','new']]\n",
        "print('==========+++++++++')\n",
        "print(df2)\n",
        "print('==========+++++++++')\n",
        "print(df2.drop('y'))\n",
        "\n"
      ],
      "execution_count": 92,
      "outputs": [
        {
          "output_type": "stream",
          "text": [
            "   1  2  3  4\n",
            "x  0  4  0  9\n",
            "y  4  9  1  6\n",
            "Z  1  5  7  1\n",
            "W  7  9  6  2\n",
            "==========+++++++++\n",
            "   1  2  3  4  new\n",
            "x  0  4  0  9    0\n",
            "y  4  9  1  6    4\n",
            "Z  1  5  7  1    1\n",
            "W  7  9  6  2    7\n",
            "==========+++++++++\n",
            "   1  3  4  new\n",
            "x  0  0  9    0\n",
            "y  4  1  6    4\n",
            "Z  1  7  1    1\n",
            "W  7  6  2    7\n",
            "==========+++++++++\n",
            "   1  new\n",
            "x  0    0\n",
            "y  4    4\n",
            "Z  1    1\n",
            "W  7    7\n",
            "==========+++++++++\n",
            "   1  new\n",
            "x  0    0\n",
            "Z  1    1\n",
            "W  7    7\n"
          ],
          "name": "stdout"
        }
      ]
    }
  ]
}