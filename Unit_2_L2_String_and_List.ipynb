{
  "nbformat": 4,
  "nbformat_minor": 0,
  "metadata": {
    "colab": {
      "name": "Unit 2_L2_String and List.ipynb",
      "provenance": [],
      "collapsed_sections": [],
      "include_colab_link": true
    },
    "kernelspec": {
      "name": "python3",
      "display_name": "Python 3"
    }
  },
  "cells": [
    {
      "cell_type": "markdown",
      "metadata": {
        "id": "view-in-github",
        "colab_type": "text"
      },
      "source": [
        "<a href=\"https://colab.research.google.com/github/sheli90610/NumPy/blob/master/Unit_2_L2_String_and_List.ipynb\" target=\"_parent\"><img src=\"https://colab.research.google.com/assets/colab-badge.svg\" alt=\"Open In Colab\"/></a>"
      ]
    },
    {
      "cell_type": "code",
      "metadata": {
        "colab": {
          "base_uri": "https://localhost:8080/"
        },
        "id": "xDMGl7LCKSeC",
        "outputId": "a8db6a78-b984-4ed7-9350-0396a5e9a587"
      },
      "source": [
        "#The len() function returns the length of a string:\n",
        " \n",
        "a = \"Hello, World!\"\n",
        "print(len(a))"
      ],
      "execution_count": null,
      "outputs": [
        {
          "output_type": "stream",
          "text": [
            "13\n"
          ],
          "name": "stdout"
        }
      ]
    },
    {
      "cell_type": "code",
      "metadata": {
        "colab": {
          "base_uri": "https://localhost:8080/"
        },
        "id": "Pc3cEQ6HKdYe",
        "outputId": "a91b8474-f251-42c6-e1da-cc4b4791ba08"
      },
      "source": [
        "#Check if \"free\" is present in the following text:\n",
        "\n",
        "txt = \"The best things in life are free!\"\n",
        "print(\"free\" in txt)\n",
        "print(\"hhhhe\" in txt)"
      ],
      "execution_count": null,
      "outputs": [
        {
          "output_type": "stream",
          "text": [
            "True\n",
            "False\n"
          ],
          "name": "stdout"
        }
      ]
    },
    {
      "cell_type": "code",
      "metadata": {
        "colab": {
          "base_uri": "https://localhost:8080/"
        },
        "id": "Y0PJgpN8IB2r",
        "outputId": "6b6beab6-69a4-491d-9f92-1c99842a9d88"
      },
      "source": [
        "age = 36\n",
        "txt = \"My name is me, and I am {} years old\"\n",
        "print(txt.format(age))\n"
      ],
      "execution_count": null,
      "outputs": [
        {
          "output_type": "stream",
          "text": [
            "My name is me, and I am 36 years old\n"
          ],
          "name": "stdout"
        }
      ]
    },
    {
      "cell_type": "code",
      "metadata": {
        "colab": {
          "base_uri": "https://localhost:8080/"
        },
        "id": "DwMnw7weIG_S",
        "outputId": "4003b407-f6bb-421b-805f-df1e5860310b"
      },
      "source": [
        "#Demonstrate one String Concatenation example.\n",
        "str_a = 'String'\n",
        "str_b = 'Example' \n",
        "str_c = str_a + ' Concatenation ' + str_b\n",
        "print(str_c)"
      ],
      "execution_count": null,
      "outputs": [
        {
          "output_type": "stream",
          "text": [
            "String Concatenation Example\n"
          ],
          "name": "stdout"
        }
      ]
    },
    {
      "cell_type": "code",
      "metadata": {
        "colab": {
          "base_uri": "https://localhost:8080/"
        },
        "id": "34uyI7VCFte8",
        "outputId": "ff121cc6-6bbb-4813-8f17-552bd49a15c7"
      },
      "source": [
        "thislist = [\"apple\", \"banana\", \"cherry\", \"apple\", \"cherry\"]\n",
        "print(thislist)"
      ],
      "execution_count": null,
      "outputs": [
        {
          "output_type": "stream",
          "text": [
            "['apple', 'banana', 'cherry', 'apple', 'cherry']\n"
          ],
          "name": "stdout"
        }
      ]
    },
    {
      "cell_type": "code",
      "metadata": {
        "colab": {
          "base_uri": "https://localhost:8080/"
        },
        "id": "RDd1MaTIFzQJ",
        "outputId": "74cd2bc5-b8fc-401b-c45e-f37532bea18d"
      },
      "source": [
        "list1 = [\"apple\", \"banana\", \"cherry\"]\n",
        "list2 = [1, 5, 7, 9, 3]\n",
        "list3 = [True, False, False]\n",
        "print(type(list3))"
      ],
      "execution_count": null,
      "outputs": [
        {
          "output_type": "stream",
          "text": [
            "<class 'list'>\n"
          ],
          "name": "stdout"
        }
      ]
    },
    {
      "cell_type": "code",
      "metadata": {
        "colab": {
          "base_uri": "https://localhost:8080/"
        },
        "id": "YIkplprTF53n",
        "outputId": "03a399e5-63bc-454d-fd2d-bc3b84f4f5fd"
      },
      "source": [
        "thislist = [\"apple\", 66, \"orange\",]\n",
        "\n",
        "print(thislist)"
      ],
      "execution_count": null,
      "outputs": [
        {
          "output_type": "stream",
          "text": [
            "['apple', 66, 'orange']\n"
          ],
          "name": "stdout"
        }
      ]
    },
    {
      "cell_type": "code",
      "metadata": {
        "colab": {
          "base_uri": "https://localhost:8080/"
        },
        "id": "Tha9pQ7EE9he",
        "outputId": "0ce3cecd-6686-461e-b014-aa74d193675c"
      },
      "source": [
        "nest#To add new values to the end of the nested list, use append() method.\n",
        "L = ['a', ['bb', 'cc'],['f','g'], 'd']\n",
        "\n",
        "Lw = ['a''bb','5' 'cc']\n",
        "print(L)\n",
        "print(Lw)\n",
        "# Prints ['a', ['bb', 'cc', 'xx'], 'd']\n",
        "\n"
      ],
      "execution_count": null,
      "outputs": [
        {
          "output_type": "stream",
          "text": [
            "['a', ['bb', 'cc'], ['f', 'g'], 'd']\n",
            "['abb', '5cc']\n"
          ],
          "name": "stdout"
        }
      ]
    },
    {
      "cell_type": "code",
      "metadata": {
        "colab": {
          "base_uri": "https://localhost:8080/"
        },
        "id": "I-CCIB5fFSZ9",
        "outputId": "fc7738e5-30f5-4e81-839e-5884d831a954"
      },
      "source": [
        "# insert an item at a specific position in a nested list, use insert() method.\n",
        "L = ['a', ['bb', 'cc'], 'd']\n",
        "L[1].insert(2,'xx')\n",
        "print(L)\n"
      ],
      "execution_count": null,
      "outputs": [
        {
          "output_type": "stream",
          "text": [
            "['a', ['bb', 'cc', 'xx'], 'd']\n"
          ],
          "name": "stdout"
        }
      ]
    },
    {
      "cell_type": "code",
      "metadata": {
        "colab": {
          "base_uri": "https://localhost:8080/"
        },
        "id": "vB21-PC6FfCk",
        "outputId": "83fb895c-59a6-43b0-d1da-6a6dd6574ac9"
      },
      "source": [
        "#change the value of a specific item in a nested list by referring to its index number.\n",
        "L = ['a', ['bb', 'cc'], 'd']\n",
        "L[1][1] = 'k'\n",
        "print(L)"
      ],
      "execution_count": null,
      "outputs": [
        {
          "output_type": "stream",
          "text": [
            "['a', ['bb', 'k'], 'd']\n"
          ],
          "name": "stdout"
        }
      ]
    },
    {
      "cell_type": "code",
      "metadata": {
        "id": "gEhlSNfPFj0Q",
        "colab": {
          "base_uri": "https://localhost:8080/"
        },
        "outputId": "7fdde83a-1919-477b-db08-275ffec69434"
      },
      "source": [
        "#You can merge one list into another by using extend() method.\n",
        "L = ['a', ['bb', 'cc'], 'd']\n",
        "L[1].extend(['g',2,3])\n",
        "print(L)"
      ],
      "execution_count": null,
      "outputs": [
        {
          "output_type": "stream",
          "text": [
            "['a', ['bb', 'cc', 'g', 2, 3], 'd']\n"
          ],
          "name": "stdout"
        }
      ]
    },
    {
      "cell_type": "code",
      "metadata": {
        "id": "2DMAKzw3Fmd5"
      },
      "source": [
        "testt = [\"applue\", \"banana\", \"cherry\"]\n",
        "if \"apple\" in testt:\n",
        "  print(\"Yes, 'apple' is in the fruits list\")"
      ],
      "execution_count": null,
      "outputs": []
    },
    {
      "cell_type": "code",
      "metadata": {
        "colab": {
          "base_uri": "https://localhost:8080/"
        },
        "id": "jFOPtNvZGKQO",
        "outputId": "e9441d9e-6e19-491d-d541-04029d18ff4e"
      },
      "source": [
        "thislist = [\"apple\", \"banana\", \"cherry\"]\n",
        "thislist[1] = \"blackcurrant\"\n",
        "print(thislist)"
      ],
      "execution_count": null,
      "outputs": [
        {
          "output_type": "stream",
          "text": [
            "['apple', 'blackcurrant', 'cherry']\n"
          ],
          "name": "stdout"
        }
      ]
    },
    {
      "cell_type": "code",
      "metadata": {
        "colab": {
          "base_uri": "https://localhost:8080/"
        },
        "id": "4pm1DeVNGU5t",
        "outputId": "8ae6b098-014d-4792-e11c-c8382db2a9cf"
      },
      "source": [
        "thislist = [\"apple\", \"banana\", \"cherry\"]\n",
        "thislist[1:3] = [\"watermelon\"]\n",
        "print(thislist)"
      ],
      "execution_count": null,
      "outputs": [
        {
          "output_type": "stream",
          "text": [
            "['apple', 'watermelon']\n"
          ],
          "name": "stdout"
        }
      ]
    },
    {
      "cell_type": "code",
      "metadata": {
        "colab": {
          "base_uri": "https://localhost:8080/"
        },
        "id": "QQvfV1gzGfXS",
        "outputId": "bc6a9091-6ba4-47c3-fda9-bea554cdbb7b"
      },
      "source": [
        "fruits=[55,'banana','cherry']\n",
        "fruits.append(\"orange\")\n",
        "print(fruits)"
      ],
      "execution_count": null,
      "outputs": [
        {
          "output_type": "stream",
          "text": [
            "[55, 'banana', 'cherry', 'orange']\n"
          ],
          "name": "stdout"
        }
      ]
    },
    {
      "cell_type": "code",
      "metadata": {
        "colab": {
          "base_uri": "https://localhost:8080/"
        },
        "id": "YTo90fUqGnYq",
        "outputId": "fac66ef0-ce4c-4387-ff7d-fd0972d02518"
      },
      "source": [
        "#Add a list to a list:\n",
        "a = [\"apple\", \"banana\", \"cherry\"]\n",
        "b = [\"Ford\", \"BMW\", \"Volvo\"]\n",
        "a.append(b)\n",
        "print(a)"
      ],
      "execution_count": null,
      "outputs": [
        {
          "output_type": "stream",
          "text": [
            "['apple', 'banana', 'cherry', ['Ford', 'BMW', 'Volvo']]\n"
          ],
          "name": "stdout"
        }
      ]
    },
    {
      "cell_type": "code",
      "metadata": {
        "colab": {
          "base_uri": "https://localhost:8080/"
        },
        "id": "IExtkgAFGvLQ",
        "outputId": "f0304d75-2cca-426e-97af-0c1c9ea6b361"
      },
      "source": [
        "#Loop Through the Index Numbers\n",
        "thislist = [\"apple\", \"banana\", \"cherry\"]\n",
        "for i in range(len(thislist)):\n",
        "  print(thislist[i])\n",
        "print('nnn')"
      ],
      "execution_count": null,
      "outputs": [
        {
          "output_type": "stream",
          "text": [
            "apple\n",
            "banana\n",
            "cherry\n",
            "nnn\n"
          ],
          "name": "stdout"
        }
      ]
    },
    {
      "cell_type": "code",
      "metadata": {
        "colab": {
          "base_uri": "https://localhost:8080/"
        },
        "id": "LDhKcLnSG03B",
        "outputId": "5cbe63dd-0ff3-41e2-b3cc-1d8ed17b6907"
      },
      "source": [
        "#Insert an item as the second position:\n",
        "thislist = [\"apple\", \"banana\", \"cherry\"]\n",
        "thislist.insert(1, \"orange\")\n",
        "print(thislist)"
      ],
      "execution_count": null,
      "outputs": [
        {
          "output_type": "stream",
          "text": [
            "['apple', 'orange', 'banana', 'cherry']\n"
          ],
          "name": "stdout"
        }
      ]
    },
    {
      "cell_type": "code",
      "metadata": {
        "colab": {
          "base_uri": "https://localhost:8080/"
        },
        "id": "hNd1BJK2G7oE",
        "outputId": "d8f9cc29-e3f6-4cd8-82a6-6f37d6ffa59c"
      },
      "source": [
        "#extend elements from another list to the current list,\n",
        "thislist = [\"apple\", \"banana\", \"cherry\"]\n",
        "tropical = [\"mango\", \"pineapple\", \"papaya\"]\n",
        "thislist.extend(tropical)\n",
        "print(thislist)"
      ],
      "execution_count": null,
      "outputs": [
        {
          "output_type": "stream",
          "text": [
            "['apple', 'banana', 'cherry', 'mango', 'pineapple', 'papaya']\n"
          ],
          "name": "stdout"
        }
      ]
    },
    {
      "cell_type": "code",
      "metadata": {
        "colab": {
          "base_uri": "https://localhost:8080/"
        },
        "id": "DUcTsqndHfxn",
        "outputId": "0ab29088-18fb-459f-f226-c508ffe575c0"
      },
      "source": [
        "fruit1 = [\"pineapple\", \"kwi\", \"cherry\",\"Lemon\",\"babana\"]\n",
        "print(fruit1)\n",
        "fruit2 = (\"melon\", \"orange\")\n",
        "fruit1.extend(fruit2)\n",
        "print(fruit1)\n",
        "print(len(fruit1))\n",
        "fruit1.remove(\"orange\")\n",
        "print(fruit1)\n",
        "print(len(fruit1))\n",
        "fruit1.sort()\n",
        "print(\"sorted List\",fruit1)"
      ],
      "execution_count": null,
      "outputs": [
        {
          "output_type": "stream",
          "text": [
            "['pineapple', 'kwi', 'cherry', 'Lemon', 'babana']\n",
            "['pineapple', 'kwi', 'cherry', 'Lemon', 'babana', 'melon', 'orange']\n",
            "7\n",
            "['pineapple', 'kwi', 'cherry', 'Lemon', 'babana', 'melon']\n",
            "6\n",
            "sorted List ['Lemon', 'babana', 'cherry', 'kwi', 'melon', 'pineapple']\n"
          ],
          "name": "stdout"
        }
      ]
    },
    {
      "cell_type": "code",
      "metadata": {
        "colab": {
          "base_uri": "https://localhost:8080/",
          "height": 122
        },
        "id": "aQFTkF32HuLm",
        "outputId": "bcc028bc-d969-4f37-cead-a202a94da40d"
      },
      "source": [
        "a = [\"car\", [\"bmw\", \"kia\", \"ford\"], \"Truck\", [\"pick up\", \"monster truck\", [\"ford\", \"gmc\"]], \"motorcycle\", [\"Honda\"]]\n",
        "print(a[0])\n",
        "print(a[1])\n",
        "print(a[2])\n",
        "print(a[3])\n",
        "print(a[1][1])\n",
        "\n",
        "#to get ford which is in 3rd list (second list) and 0 element\n",
        "a[3][2][0]"
      ],
      "execution_count": null,
      "outputs": [
        {
          "output_type": "stream",
          "text": [
            "car\n",
            "['bmw', 'kia', 'ford']\n",
            "Truck\n",
            "['pick up', 'monster truck', ['ford', 'gmc']]\n",
            "kia\n"
          ],
          "name": "stdout"
        },
        {
          "output_type": "execute_result",
          "data": {
            "application/vnd.google.colaboratory.intrinsic+json": {
              "type": "string"
            },
            "text/plain": [
              "'ford'"
            ]
          },
          "metadata": {
            "tags": []
          },
          "execution_count": 16
        }
      ]
    },
    {
      "cell_type": "code",
      "metadata": {
        "colab": {
          "base_uri": "https://localhost:8080/"
        },
        "id": "B-jXfjB9IUYM",
        "outputId": "ce222521-0357-41e6-f9aa-a2da7a1ade61"
      },
      "source": [
        "fruit1 = [\"pineapple\", \"kwi\", \"cherry\",\"lemon\",\"babana\"]\n",
        "print(fruit1)\n",
        "fruit2 = [\"melon\", \"orange\"]\n",
        "fruit1.extend(fruit2)\n",
        "print(fruit1)\n",
        "print(len(fruit1))\n",
        "fruit1.remove(\"orange\")\n",
        "print(fruit1)\n",
        "print(len(fruit1))\n",
        "fruit1.sort()\n",
        "print(fruit1)"
      ],
      "execution_count": null,
      "outputs": [
        {
          "output_type": "stream",
          "text": [
            "['pineapple', 'kwi', 'cherry', 'lemon', 'babana']\n",
            "['pineapple', 'kwi', 'cherry', 'lemon', 'babana', 'melon', 'orange']\n",
            "7\n",
            "['pineapple', 'kwi', 'cherry', 'lemon', 'babana', 'melon']\n",
            "6\n",
            "['babana', 'cherry', 'kwi', 'lemon', 'melon', 'pineapple']\n"
          ],
          "name": "stdout"
        }
      ]
    },
    {
      "cell_type": "code",
      "metadata": {
        "colab": {
          "base_uri": "https://localhost:8080/"
        },
        "id": "sqg2Pk-CK9Et",
        "outputId": "cd241fd1-6892-40c7-b134-2d99590aa83f"
      },
      "source": [
        "#Sort the list alphabetically:\n",
        "\n",
        "cars = ['Ford', 'BMW', 'Volvo']\n",
        "\n",
        "cars.sort()\n",
        "print(cars)"
      ],
      "execution_count": null,
      "outputs": [
        {
          "output_type": "stream",
          "text": [
            "['BMW', 'Ford', 'Volvo']\n"
          ],
          "name": "stdout"
        }
      ]
    },
    {
      "cell_type": "code",
      "metadata": {
        "colab": {
          "base_uri": "https://localhost:8080/"
        },
        "id": "8zOeBBZAgwry",
        "outputId": "1433e9c3-807b-410b-9162-78a1b11a57fb"
      },
      "source": [
        "list1 = ['physics', 'chemistry', 1997, 2000]\n",
        "list1[:3]"
      ],
      "execution_count": null,
      "outputs": [
        {
          "output_type": "execute_result",
          "data": {
            "text/plain": [
              "['physics', 'chemistry', 1997]"
            ]
          },
          "metadata": {
            "tags": []
          },
          "execution_count": 12
        }
      ]
    },
    {
      "cell_type": "code",
      "metadata": {
        "colab": {
          "base_uri": "https://localhost:8080/"
        },
        "id": "lIE0Gru1vycT",
        "outputId": "0cbd1b78-58ac-4f19-ae8a-687f8f8fbf65"
      },
      "source": [
        "for number in range(1, 10):\n",
        "    if(number % 2 !=0):\n",
        "        print(number)"
      ],
      "execution_count": null,
      "outputs": [
        {
          "output_type": "stream",
          "text": [
            "1\n",
            "3\n",
            "5\n",
            "7\n",
            "9\n"
          ],
          "name": "stdout"
        }
      ]
    },
    {
      "cell_type": "markdown",
      "metadata": {
        "id": "vKsgQ1uY5yS2"
      },
      "source": [
        "Lecture 5"
      ]
    },
    {
      "cell_type": "code",
      "metadata": {
        "colab": {
          "base_uri": "https://localhost:8080/"
        },
        "id": "_syyFgwWyPBS",
        "outputId": "5f8ae36f-5829-46c2-8da1-f2ad4bf2f373"
      },
      "source": [
        "bike='honda'\n",
        "bike=='honda'"
      ],
      "execution_count": null,
      "outputs": [
        {
          "output_type": "execute_result",
          "data": {
            "text/plain": [
              "True"
            ]
          },
          "metadata": {
            "tags": []
          },
          "execution_count": 17
        }
      ]
    },
    {
      "cell_type": "code",
      "metadata": {
        "colab": {
          "base_uri": "https://localhost:8080/"
        },
        "id": "-tRm9Hsd0dEw",
        "outputId": "17a1e82e-0d53-4e59-bba9-c6cda3eb3f7c"
      },
      "source": [
        "patientexam='ecg'\n",
        "if(patientexam !='ecg'):\n",
        " print('incorect exam')\n",
        "print('corect exam')\n",
        " "
      ],
      "execution_count": null,
      "outputs": [
        {
          "output_type": "stream",
          "text": [
            "corect exam\n"
          ],
          "name": "stdout"
        }
      ]
    },
    {
      "cell_type": "code",
      "metadata": {
        "colab": {
          "base_uri": "https://localhost:8080/"
        },
        "id": "lkFvosnv16jO",
        "outputId": "d6fe6cad-aecc-4b6e-8c61-c8afd8bf28f2"
      },
      "source": [
        "a = 33\n",
        "b = 33\n",
        "if b > a:\n",
        "  print(\"b is greater than a\")\n",
        "elif a == b:\n",
        "  print(\"a and b are equal\")"
      ],
      "execution_count": null,
      "outputs": [
        {
          "output_type": "stream",
          "text": [
            "a and b are equal\n"
          ],
          "name": "stdout"
        }
      ]
    },
    {
      "cell_type": "code",
      "metadata": {
        "colab": {
          "base_uri": "https://localhost:8080/"
        },
        "id": "E_BTLPvq2J3C",
        "outputId": "a4f9a0df-5fea-4622-e22b-3b217fcd05a6"
      },
      "source": [
        "a = 200\n",
        "b = 33\n",
        "if b > a:\n",
        "  print(\"b is greater than a\")\n",
        "elif a == b:\n",
        "  print(\"a and b are equal\")\n",
        "else:\n",
        "  print(\"a is greater than b\")"
      ],
      "execution_count": null,
      "outputs": [
        {
          "output_type": "stream",
          "text": [
            "a is greater than b\n"
          ],
          "name": "stdout"
        }
      ]
    },
    {
      "cell_type": "code",
      "metadata": {
        "colab": {
          "base_uri": "https://localhost:8080/"
        },
        "id": "dZOqg08x2U_m",
        "outputId": "b04f095e-c2db-4d37-a353-2f7fdf3200ed"
      },
      "source": [
        "#readmit days after discharge from hospital = 29 you will ger error why?\n",
        "readmit_days_after_discharge_from_hospital = 29\n",
        "if readmit_days_after_discharge_from_hospital < 30:\n",
        "  print ('patient readmited whithin 30 days')\n",
        "else:\n",
        "  print ('patient readmited after 30 days')"
      ],
      "execution_count": null,
      "outputs": [
        {
          "output_type": "stream",
          "text": [
            "patient readmited whithin 30 days\n"
          ],
          "name": "stdout"
        }
      ]
    },
    {
      "cell_type": "code",
      "metadata": {
        "colab": {
          "base_uri": "https://localhost:8080/"
        },
        "id": "hXKSh8Zo5RM0",
        "outputId": "283a8671-6a3a-4561-d234-7013ee084adb"
      },
      "source": [
        "#multiple conditions and\n",
        "a = 200\n",
        "b = 33\n",
        "c = 100\n",
        "if a > b or c > a:\n",
        "  print(\"one conditions are True\")"
      ],
      "execution_count": null,
      "outputs": [
        {
          "output_type": "stream",
          "text": [
            "one conditions are True\n"
          ],
          "name": "stdout"
        }
      ]
    },
    {
      "cell_type": "code",
      "metadata": {
        "colab": {
          "base_uri": "https://localhost:8080/"
        },
        "id": "ublmoT2K5cyD",
        "outputId": "f4e27cca-d0b0-4142-f13f-6d3b112f9eb4"
      },
      "source": [
        "#multiple conditions or\n",
        "a = 200\n",
        "b = 33\n",
        "c = 500\n",
        "if a > b or a > c:\n",
        "  print(\"At least one of the conditions is True\")\n"
      ],
      "execution_count": null,
      "outputs": [
        {
          "output_type": "stream",
          "text": [
            "At least one of the conditions is True\n"
          ],
          "name": "stdout"
        }
      ]
    },
    {
      "cell_type": "code",
      "metadata": {
        "colab": {
          "base_uri": "https://localhost:8080/"
        },
        "id": "-2OHlcPt5sA_",
        "outputId": "cb12019b-4f99-44ea-892f-62c8e26a63ad"
      },
      "source": [
        "# Nested If \n",
        "x = 41\n",
        "\n",
        "if x > 10:\n",
        "  print(\"Above ten,\")\n",
        "  if x > 20:\n",
        "    print(\"and also above 20!\")\n",
        "  else:\n",
        "    print(\"but not above 20.\")"
      ],
      "execution_count": null,
      "outputs": [
        {
          "output_type": "stream",
          "text": [
            "Above ten,\n",
            "and also above 20!\n"
          ],
          "name": "stdout"
        }
      ]
    },
    {
      "cell_type": "code",
      "metadata": {
        "colab": {
          "base_uri": "https://localhost:8080/"
        },
        "id": "dngXbNs_5a3H",
        "outputId": "7aa7f4ba-1a2a-46d7-d1d3-d93bda4c34ea"
      },
      "source": [
        "#Check If List Item Exists\n",
        "#To determine if a specified item is present in a list use the in keyword:\n",
        "#Check if \"apple\" is present in the list:\n",
        "\n",
        "thislist = [\"apple\", \"banana\", \"cherry\"]\n",
        "if \"apple\" in thislist:\n",
        "  print(\"Yes, 'apple' is in the fruits list\")"
      ],
      "execution_count": null,
      "outputs": [
        {
          "output_type": "stream",
          "text": [
            "Yes, 'apple' is in the fruits list\n"
          ],
          "name": "stdout"
        }
      ]
    },
    {
      "cell_type": "code",
      "metadata": {
        "colab": {
          "base_uri": "https://localhost:8080/"
        },
        "id": "0npwHCS98CNC",
        "outputId": "c421e400-b2fc-42b3-d85d-06ce84d7bda8"
      },
      "source": [
        "patient_exam_record=['echo','ct','scan']\n",
        "'cvt' in patient_exam_record\n"
      ],
      "execution_count": null,
      "outputs": [
        {
          "output_type": "execute_result",
          "data": {
            "text/plain": [
              "False"
            ]
          },
          "metadata": {
            "tags": []
          },
          "execution_count": 5
        }
      ]
    },
    {
      "cell_type": "code",
      "metadata": {
        "colab": {
          "base_uri": "https://localhost:8080/"
        },
        "id": "gP08SCEi81zW",
        "outputId": "a0ce60c4-4f4d-4ec3-8a06-6213416c6c63"
      },
      "source": [
        "patient_exam_record_alergieas=['latex','penecilin','asperin']\n",
        "new_alergie='asma'\n",
        "if new_alergie in patient_exam_record_alergieas:\n",
        "  print('alergie in patient_exam_record')\n",
        "else:\n",
        "  print('patient doesnt have '+ new_alergie)\n",
        "  print(new_alergie +' is not in patient alergie list ')"
      ],
      "execution_count": null,
      "outputs": [
        {
          "output_type": "stream",
          "text": [
            "patient doesnt have asma\n",
            "asma is not in patient alergie list \n"
          ],
          "name": "stdout"
        }
      ]
    },
    {
      "cell_type": "code",
      "metadata": {
        "colab": {
          "base_uri": "https://localhost:8080/"
        },
        "id": "WI4a51r0CPhh",
        "outputId": "51bf9d5a-a42d-4b54-b0e3-e4bf5a20eaa2"
      },
      "source": [
        "fruits = [\"apple\", \"banana\", \"cherry\", \"kiwi\", \"mango\"]\n",
        "newlist = []\n",
        "\n",
        "for x in fruits:\n",
        "  if \"a\" in x:\n",
        "    newlist.append(x)\n",
        "\n",
        "print(newlist)"
      ],
      "execution_count": null,
      "outputs": [
        {
          "output_type": "stream",
          "text": [
            "['apple', 'banana', 'mango']\n"
          ],
          "name": "stdout"
        }
      ]
    },
    {
      "cell_type": "markdown",
      "metadata": {
        "id": "02Aq_ceyEnaw"
      },
      "source": [
        "# **Lect 6 Dictionaries**\n",
        "\n",
        "Python Collections (Arrays)\n",
        "There are four collection data types in the Python programming language:\n",
        "\n",
        "List is a collection which is ordered and changeable. Allows duplicate members.\n",
        "Tuple is a collection which is ordered and unchangeable. Allows duplicate members.\n",
        "Set is a collection which is unordered and unindexed. No duplicate members.\n",
        "Dictionary is a collection which is unordered and changeable. No duplicate members.\n",
        "When choosing a collection type, it is useful to understand the properties of that type. Choosing the right type for a particular data set could mean retention of meaning, and, it could mean an increase in efficiency or security."
      ]
    },
    {
      "cell_type": "code",
      "metadata": {
        "colab": {
          "base_uri": "https://localhost:8080/"
        },
        "id": "m7RsE-f6E3AZ",
        "outputId": "6c614e4d-cb9e-4bfb-d4d6-7ba39a12856f"
      },
      "source": [
        "#Dictionary\n",
        "#Dictionaries are used to store data values in key:value pairs.\n",
        "#A dictionary is a collection which is unordered, changeable and does not allow duplicates.\n",
        "#Dictionaries are written with curly brackets, and have keys and values:\n",
        "#Create and print a dictionary:\n",
        "\n",
        "patient_1 =\t{\n",
        "  \"first_name\": \"john\",\n",
        "  \"Last_name\": \"baker\"\n",
        "}\n",
        "print(patient_1['first_name'])\n",
        "print(patient_1['Last_name'])\n",
        "print(patient_1['first_name'],patient_1['Last_name']+' how are you')"
      ],
      "execution_count": null,
      "outputs": [
        {
          "output_type": "stream",
          "text": [
            "john\n",
            "baker\n",
            "john baker how are you\n"
          ],
          "name": "stdout"
        }
      ]
    },
    {
      "cell_type": "code",
      "metadata": {
        "colab": {
          "base_uri": "https://localhost:8080/"
        },
        "id": "BgP8HbSfkmzw",
        "outputId": "45f78eda-a29b-4522-a2d1-f46f91558479"
      },
      "source": [
        "patient_1 =\t{\n",
        "  \"first_name\": \"john\",\n",
        "  \"last_name\": \"baker\",\n",
        "  'mrn':'098987'\n",
        "}\n",
        "patient_name=patient_1['first_name']\n",
        "print(\"hello there, \"+ patient_name)\n",
        "print(patient_1)\n",
        "patient_1['mcrn']='999222'\n",
        "patient_1['new key']='bbds'\n",
        "patient_1  "
      ],
      "execution_count": null,
      "outputs": [
        {
          "output_type": "stream",
          "text": [
            "hello there, john\n",
            "{'first_name': 'john', 'last_name': 'baker', 'mrn': '098987'}\n"
          ],
          "name": "stdout"
        },
        {
          "output_type": "execute_result",
          "data": {
            "text/plain": [
              "{'first_name': 'john',\n",
              " 'last_name': 'baker',\n",
              " 'mcrn': '999222',\n",
              " 'mrn': '098987',\n",
              " 'new key': 'bbds'}"
            ]
          },
          "metadata": {
            "tags": []
          },
          "execution_count": 8
        }
      ]
    },
    {
      "cell_type": "code",
      "metadata": {
        "colab": {
          "base_uri": "https://localhost:8080/"
        },
        "id": "T_3eAig1oUq6",
        "outputId": "5e2e879c-3efd-434a-e0d0-98205c3a9d9a"
      },
      "source": [
        "thisdict =\t{\n",
        "  \"brand\": \"Ford\",\n",
        "  \"model\": \"Mustang\",\n",
        "  \"year\": 1964}\n",
        "print(thisdict)\n",
        "thisdict ['owner']='mark'\n",
        "print(thisdict)\n",
        "#to modify the value\n",
        "thisdict ['brand'] ='mercedes benz'\n",
        "print(thisdict)\n",
        "#to remove the value\n",
        "del thisdict ['brand']\n",
        "print(thisdict)"
      ],
      "execution_count": null,
      "outputs": [
        {
          "output_type": "stream",
          "text": [
            "{'brand': 'Ford', 'model': 'Mustang', 'year': 1964}\n",
            "{'brand': 'Ford', 'model': 'Mustang', 'year': 1964, 'owner': 'mark'}\n",
            "{'brand': 'mercedes benz', 'model': 'Mustang', 'year': 1964, 'owner': 'mark'}\n",
            "{'model': 'Mustang', 'year': 1964, 'owner': 'mark'}\n"
          ],
          "name": "stdout"
        }
      ]
    },
    {
      "cell_type": "code",
      "metadata": {
        "colab": {
          "base_uri": "https://localhost:8080/"
        },
        "id": "y1IG0r7tduBH",
        "outputId": "74d35d9c-ad1b-41b8-b45c-c447326aa3ce"
      },
      "source": [
        "thisdict =\t{\n",
        "  \"brand\": \"Ford\",\n",
        "  \"model\": \"Mustang\",\n",
        "  \"year\": 1964\n",
        "}\n",
        "print(thisdict)\n",
        "for key,value in thisdict.items():\n",
        "  print(key,value)\n",
        "# to print keys only\n",
        "  print(key)\n",
        " \n"
      ],
      "execution_count": null,
      "outputs": [
        {
          "output_type": "stream",
          "text": [
            "{'brand': 'Ford', 'model': 'Mustang', 'year': 1964}\n",
            "brand Ford\n",
            "brand\n",
            "model Mustang\n",
            "model\n",
            "year 1964\n",
            "year\n"
          ],
          "name": "stdout"
        }
      ]
    },
    {
      "cell_type": "code",
      "metadata": {
        "colab": {
          "base_uri": "https://localhost:8080/"
        },
        "id": "WDDCj--ndTRT",
        "outputId": "3c634822-6f2f-4226-fb58-40c9fc508cba"
      },
      "source": [
        "#Loop Through a Dictionary\n",
        "#You can loop through a dictionary by using a for loop.\n",
        "\n",
        "thisdict =\t{\n",
        "  \"name\": \"Ford\",\n",
        "  \"Last_Name\": \"baker\",\n",
        "  \"mrn\": \"023432\",\n",
        "  \"db\": \"1981/04/09\"\n",
        "}\n",
        "for key,value in thisdict.items():\n",
        "  print(\"\\nkey:\" + key)\n",
        "  print(\"\\nvalue:\" + value)\n"
      ],
      "execution_count": null,
      "outputs": [
        {
          "output_type": "stream",
          "text": [
            "\n",
            "key:name\n",
            "\n",
            "value:Ford\n",
            "\n",
            "key:Last_Name\n",
            "\n",
            "value:baker\n",
            "\n",
            "key:mrn\n",
            "\n",
            "value:023432\n",
            "\n",
            "key:db\n",
            "\n",
            "value:1981/04/09\n"
          ],
          "name": "stdout"
        }
      ]
    },
    {
      "cell_type": "code",
      "metadata": {
        "colab": {
          "base_uri": "https://localhost:8080/"
        },
        "id": "53tfwfnIvOZ8",
        "outputId": "d52babcf-4e7d-412d-aaa5-fa37bfd5b6f3"
      },
      "source": [
        "friend_ages =\t{\n",
        "  \"nick\": \"30\",\n",
        "  \"john\": \"25\",\n",
        "  \"sali\": \"43\",\n",
        "  \"dan\": \"33\"}\n",
        "fav_friend= [\"nick\",\"hop\"] \n",
        "for name in friend_ages.keys():\n",
        "  print(name.title())\n",
        "\n",
        "  if name in fav_friend:\n",
        " \n",
        "     print('Hi '+name.title() +\",I see you are \" + friend_ages[name])"
      ],
      "execution_count": null,
      "outputs": [
        {
          "output_type": "stream",
          "text": [
            "Nick\n",
            "Hi Nick,I see you are 30\n",
            "John\n",
            "Sali\n",
            "Dan\n"
          ],
          "name": "stdout"
        }
      ]
    },
    {
      "cell_type": "markdown",
      "metadata": {
        "id": "dYe59uh14qtt"
      },
      "source": [
        "while loop\n",
        "Python has two primitive loop commands:\n",
        "while loops\n",
        "for loops\n",
        "The while Loop\n",
        "With the while loop we can execute a set of statements as long as a condition is true."
      ]
    },
    {
      "cell_type": "code",
      "metadata": {
        "colab": {
          "base_uri": "https://localhost:8080/"
        },
        "id": "c4zHni5X4uJ1",
        "outputId": "2ad6a224-0a26-46ef-d8bc-0d8aa5a22594"
      },
      "source": [
        "i = 1\n",
        "while i < 6:\n",
        "  print(i)\n",
        "  i += 1\n",
        "else:\n",
        "  print(\"i is no longer less than 6\")"
      ],
      "execution_count": null,
      "outputs": [
        {
          "output_type": "stream",
          "text": [
            "1\n",
            "2\n",
            "3\n",
            "4\n",
            "5\n",
            "i is no longer less than 6\n"
          ],
          "name": "stdout"
        }
      ]
    },
    {
      "cell_type": "markdown",
      "metadata": {
        "id": "ffpXfKBK5RYO"
      },
      "source": [
        "User Input\n",
        "Python allows for user input.\n",
        "That means we are able to ask the user for input.\n",
        "The method is a bit different in Python 3.6 than Python 2.7.\n",
        "Python 3.6 uses the input() method."
      ]
    },
    {
      "cell_type": "code",
      "metadata": {
        "colab": {
          "base_uri": "https://localhost:8080/"
        },
        "id": "aSfcR1Dp5QC5",
        "outputId": "92287265-af42-430c-9117-f2ffd93e7bab"
      },
      "source": [
        "username = input(\"Enter username:\")\n",
        "print(\"Username is: \" + username)"
      ],
      "execution_count": null,
      "outputs": [
        {
          "output_type": "stream",
          "text": [
            "Enter username:jouhn\n",
            "Username is: jouhn\n"
          ],
          "name": "stdout"
        }
      ]
    },
    {
      "cell_type": "code",
      "metadata": {
        "colab": {
          "base_uri": "https://localhost:8080/"
        },
        "id": "UdSOaMPu6FfQ",
        "outputId": "e84ec2f8-9dfe-4a07-a14d-31d444b9fd96"
      },
      "source": [
        "prompt=\"input a message. i will repeat it untill you type 'quit'\"\n",
        "message=\"\"\n",
        "\n",
        "while message !='quit':\n",
        "  message = input(prompt)\n",
        "  print(message)"
      ],
      "execution_count": null,
      "outputs": [
        {
          "output_type": "stream",
          "text": [
            "input a message. i will repeat it untill you type 'quit'tyyy\n",
            "tyyy\n",
            "input a message. i will repeat it untill you type 'quit'quit\n",
            "quit\n"
          ],
          "name": "stdout"
        }
      ]
    },
    {
      "cell_type": "markdown",
      "metadata": {
        "id": "LipDh3v3AaUh"
      },
      "source": [
        "Creating a Function\n",
        "In Python a function is defined using the def keyword:\n",
        "\n"
      ]
    },
    {
      "cell_type": "code",
      "metadata": {
        "id": "qKjbpzmaAfQk"
      },
      "source": [
        "#Example creating a function is the first atep\n",
        "def my_function():\n",
        "  print(\"Hello from a function\")"
      ],
      "execution_count": null,
      "outputs": []
    },
    {
      "cell_type": "code",
      "metadata": {
        "colab": {
          "base_uri": "https://localhost:8080/"
        },
        "id": "f4Vil56NAwdq",
        "outputId": "8444b304-67d5-4b79-f842-4938259580e9"
      },
      "source": [
        "#Calling a Function\n",
        "#To call a function, use the function name followed by parenthesis:\n",
        "\n",
        "#Example\n",
        "def my_function():\n",
        "  print(\"Hello from a function\")\n",
        "\n",
        "my_function()"
      ],
      "execution_count": null,
      "outputs": [
        {
          "output_type": "stream",
          "text": [
            "Hello from a function\n"
          ],
          "name": "stdout"
        }
      ]
    },
    {
      "cell_type": "code",
      "metadata": {
        "colab": {
          "base_uri": "https://localhost:8080/"
        },
        "id": "hp3bZP4zBAwe",
        "outputId": "930fa7e5-d71d-4773-94c1-79e1468e5611"
      },
      "source": [
        "#Information can be passed into functions as arguments.\n",
        "def my_function(fname):\n",
        "  \"This function add up namea\"\n",
        "  print(fname + \" Refsnes\")\n",
        "\n",
        "my_function(\"Emil\")\n",
        "my_function(\"Tobias\")\n",
        "my_function(\"Linus\")"
      ],
      "execution_count": null,
      "outputs": [
        {
          "output_type": "stream",
          "text": [
            "Emil Refsnes\n",
            "Tobias Refsnes\n",
            "Linus Refsnes\n"
          ],
          "name": "stdout"
        }
      ]
    },
    {
      "cell_type": "code",
      "metadata": {
        "colab": {
          "base_uri": "https://localhost:8080/"
        },
        "id": "m9K0lvyqFFPB",
        "outputId": "4ad68763-5f8a-46ed-d032-df9c6dbb4261"
      },
      "source": [
        "#Lec 7 mini project odd,even\n",
        "\n",
        "num = int(input(\"Enter a number: \"))\n",
        "if (num % 2) == 0:\n",
        "   print(num,\" is Even\".format(num))\n",
        "else:\n",
        "   print(num ,\" is Odd\".format(num))\n"
      ],
      "execution_count": null,
      "outputs": [
        {
          "output_type": "stream",
          "text": [
            "Enter a number: 7\n",
            "7  is Odd\n"
          ],
          "name": "stdout"
        }
      ]
    },
    {
      "cell_type": "code",
      "metadata": {
        "colab": {
          "base_uri": "https://localhost:8080/"
        },
        "id": "UBO7C6z2JAnC",
        "outputId": "b5c93298-7f38-4fd6-dc2a-f249beddf724"
      },
      "source": [
        "#tell if a number devidable by 4\n",
        "def multiple(m, n):\n",
        "\treturn True if m % n == 0 else False\n",
        "m = int(input(\"Enter a number: \"))\n",
        "print(multiple(m, 4))\n"
      ],
      "execution_count": null,
      "outputs": [
        {
          "output_type": "stream",
          "text": [
            "Enter a number: 7\n",
            "False\n"
          ],
          "name": "stdout"
        }
      ]
    },
    {
      "cell_type": "code",
      "metadata": {
        "colab": {
          "base_uri": "https://localhost:8080/"
        },
        "id": "RJpBBVj65M6H",
        "outputId": "e75a43f3-eade-472d-d58c-abdcffb4a7f6"
      },
      "source": [
        "def my_function(age):\n",
        "  \"\"\"This function add up namea\"\"\"\n",
        "  text = \"My name is john, and I am {} years old\"\n",
        "  print(text.format(age))\n",
        "\n",
        "\n",
        "age = 36\n",
        "my_function(age)"
      ],
      "execution_count": null,
      "outputs": [
        {
          "output_type": "stream",
          "text": [
            "My name is john, and I am 36 years old\n"
          ],
          "name": "stdout"
        }
      ]
    }
  ]
}